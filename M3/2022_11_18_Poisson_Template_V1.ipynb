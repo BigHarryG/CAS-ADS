{
 "cells": [
  {
   "cell_type": "markdown",
   "metadata": {
    "id": "NVSRftm8X1m1"
   },
   "source": [
    "# 1. Load libraries"
   ]
  },
  {
   "cell_type": "code",
   "execution_count": null,
   "metadata": {},
   "outputs": [],
   "source": [
    "pip install -U scikit-learn scipy matplotlib"
   ]
  },
  {
   "cell_type": "code",
   "execution_count": null,
   "metadata": {},
   "outputs": [],
   "source": [
    "pip install seaborn"
   ]
  },
  {
   "cell_type": "code",
   "execution_count": 31,
   "metadata": {
    "id": "hVJn0ilgOS8F",
    "scrolled": true
   },
   "outputs": [],
   "source": [
    "# Scikit-learn (formerly scikits.learn and also known as sklearn) is a free \n",
    "# software machine learning library for the Python programming language. \n",
    "# It features various classification, regression and clustering algorithms, \n",
    "# and is designed to interoperate with the Python numerical and scientific \n",
    "# libraries NumPy and SciPy. (from wiki)\n",
    "\n",
    "from sklearn import linear_model\n",
    "from sklearn import tree\n",
    "from sklearn import ensemble\n",
    "\n",
    "from sklearn.datasets import make_blobs\n",
    "from sklearn.model_selection import train_test_split\n",
    "from sklearn import metrics\n",
    "from sklearn.inspection import permutation_importance\n",
    "\n",
    "# common visualization module\n",
    "from matplotlib import pyplot as plt\n",
    "import thinkplot\n",
    "import plotly.express as px\n",
    "import seaborn as sns\n",
    "sns.set()\n",
    "import statsmodels.formula.api as smf\n",
    "\n",
    "import plotly.graph_objects as go\n",
    "\n",
    "import statsmodels.api as sm\n",
    "from patsy import dmatrices\n",
    "\n",
    "from scipy import stats\n",
    "\n",
    "# numeric library\n",
    "import numpy as np\n",
    "\n",
    "import os\n",
    "import pandas as pd\n",
    "from time import time as timer\n",
    "import tarfile\n",
    "\n",
    "%matplotlib inline\n",
    "from matplotlib import animation\n",
    "from IPython.display import HTML\n",
    "from sklearn.preprocessing import StandardScaler\n",
    "\n",
    "import statsmodels.api as sm\n",
    "from patsy import dmatrices"
   ]
  },
  {
   "cell_type": "markdown",
   "metadata": {},
   "source": [
    "# 2. Load Data"
   ]
  },
  {
   "cell_type": "code",
   "execution_count": 2,
   "metadata": {},
   "outputs": [],
   "source": [
    "# Insert Data the data. Data is web-scrapped from understat.com and locally stored, named 'understat_test'. The data consists of information about the 5 biggest footbal clubs in Europe.\n",
    "df_all=pd.read_csv(r'C:\\Users\\I0331193\\Documents\\CAS\\DataFiles\\understat_test.csv', infer_datetime_format=True, parse_dates=[13],index_col=[13])"
   ]
  },
  {
   "cell_type": "code",
   "execution_count": 4,
   "metadata": {},
   "outputs": [
    {
     "data": {
      "text/html": [
       "<div>\n",
       "<style scoped>\n",
       "    .dataframe tbody tr th:only-of-type {\n",
       "        vertical-align: middle;\n",
       "    }\n",
       "\n",
       "    .dataframe tbody tr th {\n",
       "        vertical-align: top;\n",
       "    }\n",
       "\n",
       "    .dataframe thead th {\n",
       "        text-align: right;\n",
       "    }\n",
       "</style>\n",
       "<table border=\"1\" class=\"dataframe\">\n",
       "  <thead>\n",
       "    <tr style=\"text-align: right;\">\n",
       "      <th></th>\n",
       "      <th>year</th>\n",
       "      <th>xG</th>\n",
       "      <th>xGA</th>\n",
       "      <th>npxG</th>\n",
       "      <th>npxGA</th>\n",
       "      <th>deep</th>\n",
       "      <th>deep_allowed</th>\n",
       "      <th>scored</th>\n",
       "      <th>missed</th>\n",
       "      <th>xpts</th>\n",
       "      <th>...</th>\n",
       "      <th>npxGD</th>\n",
       "      <th>ppda_coef</th>\n",
       "      <th>ppda_att</th>\n",
       "      <th>ppda_def</th>\n",
       "      <th>oppda_coef</th>\n",
       "      <th>oppda_att</th>\n",
       "      <th>oppda_def</th>\n",
       "      <th>xG_diff</th>\n",
       "      <th>xGA_diff</th>\n",
       "      <th>xpts_diff</th>\n",
       "    </tr>\n",
       "  </thead>\n",
       "  <tbody>\n",
       "    <tr>\n",
       "      <th>count</th>\n",
       "      <td>204.00</td>\n",
       "      <td>204.00</td>\n",
       "      <td>204.00</td>\n",
       "      <td>204.00</td>\n",
       "      <td>204.00</td>\n",
       "      <td>204.00</td>\n",
       "      <td>204.00</td>\n",
       "      <td>204.00</td>\n",
       "      <td>204.00</td>\n",
       "      <td>204.00</td>\n",
       "      <td>...</td>\n",
       "      <td>204.00</td>\n",
       "      <td>204.00</td>\n",
       "      <td>204.00</td>\n",
       "      <td>204.00</td>\n",
       "      <td>204.00</td>\n",
       "      <td>204.00</td>\n",
       "      <td>204.00</td>\n",
       "      <td>204.00</td>\n",
       "      <td>204.00</td>\n",
       "      <td>204.00</td>\n",
       "    </tr>\n",
       "    <tr>\n",
       "      <th>mean</th>\n",
       "      <td>2016.50</td>\n",
       "      <td>2.35</td>\n",
       "      <td>0.81</td>\n",
       "      <td>2.21</td>\n",
       "      <td>0.73</td>\n",
       "      <td>11.72</td>\n",
       "      <td>3.16</td>\n",
       "      <td>2.59</td>\n",
       "      <td>0.73</td>\n",
       "      <td>2.25</td>\n",
       "      <td>...</td>\n",
       "      <td>1.48</td>\n",
       "      <td>7.33</td>\n",
       "      <td>172.75</td>\n",
       "      <td>24.90</td>\n",
       "      <td>23.84</td>\n",
       "      <td>401.89</td>\n",
       "      <td>21.31</td>\n",
       "      <td>-0.25</td>\n",
       "      <td>0.07</td>\n",
       "      <td>-0.17</td>\n",
       "    </tr>\n",
       "    <tr>\n",
       "      <th>std</th>\n",
       "      <td>1.71</td>\n",
       "      <td>1.15</td>\n",
       "      <td>0.61</td>\n",
       "      <td>1.10</td>\n",
       "      <td>0.56</td>\n",
       "      <td>5.20</td>\n",
       "      <td>2.50</td>\n",
       "      <td>1.70</td>\n",
       "      <td>0.93</td>\n",
       "      <td>0.68</td>\n",
       "      <td>...</td>\n",
       "      <td>1.29</td>\n",
       "      <td>3.08</td>\n",
       "      <td>60.60</td>\n",
       "      <td>6.42</td>\n",
       "      <td>15.81</td>\n",
       "      <td>66.31</td>\n",
       "      <td>9.30</td>\n",
       "      <td>1.31</td>\n",
       "      <td>0.73</td>\n",
       "      <td>0.91</td>\n",
       "    </tr>\n",
       "    <tr>\n",
       "      <th>min</th>\n",
       "      <td>2014.00</td>\n",
       "      <td>0.10</td>\n",
       "      <td>0.00</td>\n",
       "      <td>0.10</td>\n",
       "      <td>0.00</td>\n",
       "      <td>1.00</td>\n",
       "      <td>0.00</td>\n",
       "      <td>0.00</td>\n",
       "      <td>0.00</td>\n",
       "      <td>0.29</td>\n",
       "      <td>...</td>\n",
       "      <td>-1.91</td>\n",
       "      <td>2.11</td>\n",
       "      <td>50.00</td>\n",
       "      <td>10.00</td>\n",
       "      <td>5.06</td>\n",
       "      <td>240.00</td>\n",
       "      <td>2.00</td>\n",
       "      <td>-4.38</td>\n",
       "      <td>-2.44</td>\n",
       "      <td>-2.50</td>\n",
       "    </tr>\n",
       "    <tr>\n",
       "      <th>25%</th>\n",
       "      <td>2015.00</td>\n",
       "      <td>1.50</td>\n",
       "      <td>0.33</td>\n",
       "      <td>1.47</td>\n",
       "      <td>0.29</td>\n",
       "      <td>8.00</td>\n",
       "      <td>1.00</td>\n",
       "      <td>1.00</td>\n",
       "      <td>0.00</td>\n",
       "      <td>1.87</td>\n",
       "      <td>...</td>\n",
       "      <td>0.55</td>\n",
       "      <td>5.06</td>\n",
       "      <td>129.00</td>\n",
       "      <td>21.00</td>\n",
       "      <td>14.80</td>\n",
       "      <td>355.75</td>\n",
       "      <td>14.00</td>\n",
       "      <td>-1.09</td>\n",
       "      <td>-0.30</td>\n",
       "      <td>-0.66</td>\n",
       "    </tr>\n",
       "    <tr>\n",
       "      <th>50%</th>\n",
       "      <td>2016.50</td>\n",
       "      <td>2.20</td>\n",
       "      <td>0.66</td>\n",
       "      <td>2.03</td>\n",
       "      <td>0.60</td>\n",
       "      <td>11.50</td>\n",
       "      <td>3.00</td>\n",
       "      <td>2.00</td>\n",
       "      <td>0.50</td>\n",
       "      <td>2.42</td>\n",
       "      <td>...</td>\n",
       "      <td>1.37</td>\n",
       "      <td>6.75</td>\n",
       "      <td>161.50</td>\n",
       "      <td>24.00</td>\n",
       "      <td>20.36</td>\n",
       "      <td>404.00</td>\n",
       "      <td>20.00</td>\n",
       "      <td>-0.19</td>\n",
       "      <td>0.22</td>\n",
       "      <td>-0.21</td>\n",
       "    </tr>\n",
       "    <tr>\n",
       "      <th>75%</th>\n",
       "      <td>2018.00</td>\n",
       "      <td>3.10</td>\n",
       "      <td>1.09</td>\n",
       "      <td>2.93</td>\n",
       "      <td>0.98</td>\n",
       "      <td>15.00</td>\n",
       "      <td>4.25</td>\n",
       "      <td>4.00</td>\n",
       "      <td>1.00</td>\n",
       "      <td>2.81</td>\n",
       "      <td>...</td>\n",
       "      <td>2.32</td>\n",
       "      <td>8.79</td>\n",
       "      <td>207.50</td>\n",
       "      <td>30.00</td>\n",
       "      <td>28.39</td>\n",
       "      <td>444.25</td>\n",
       "      <td>27.00</td>\n",
       "      <td>0.72</td>\n",
       "      <td>0.52</td>\n",
       "      <td>-0.01</td>\n",
       "    </tr>\n",
       "    <tr>\n",
       "      <th>max</th>\n",
       "      <td>2019.00</td>\n",
       "      <td>5.94</td>\n",
       "      <td>3.00</td>\n",
       "      <td>5.84</td>\n",
       "      <td>3.00</td>\n",
       "      <td>32.00</td>\n",
       "      <td>14.00</td>\n",
       "      <td>8.00</td>\n",
       "      <td>5.00</td>\n",
       "      <td>3.00</td>\n",
       "      <td>...</td>\n",
       "      <td>5.30</td>\n",
       "      <td>19.00</td>\n",
       "      <td>405.00</td>\n",
       "      <td>46.00</td>\n",
       "      <td>152.00</td>\n",
       "      <td>562.00</td>\n",
       "      <td>65.00</td>\n",
       "      <td>2.41</td>\n",
       "      <td>1.76</td>\n",
       "      <td>2.36</td>\n",
       "    </tr>\n",
       "  </tbody>\n",
       "</table>\n",
       "<p>8 rows × 24 columns</p>\n",
       "</div>"
      ],
      "text/plain": [
       "          year      xG     xGA    npxG   npxGA    deep  deep_allowed  scored  \\\n",
       "count   204.00  204.00  204.00  204.00  204.00  204.00        204.00  204.00   \n",
       "mean   2016.50    2.35    0.81    2.21    0.73   11.72          3.16    2.59   \n",
       "std       1.71    1.15    0.61    1.10    0.56    5.20          2.50    1.70   \n",
       "min    2014.00    0.10    0.00    0.10    0.00    1.00          0.00    0.00   \n",
       "25%    2015.00    1.50    0.33    1.47    0.29    8.00          1.00    1.00   \n",
       "50%    2016.50    2.20    0.66    2.03    0.60   11.50          3.00    2.00   \n",
       "75%    2018.00    3.10    1.09    2.93    0.98   15.00          4.25    4.00   \n",
       "max    2019.00    5.94    3.00    5.84    3.00   32.00         14.00    8.00   \n",
       "\n",
       "       missed    xpts  ...   npxGD  ppda_coef  ppda_att  ppda_def  oppda_coef  \\\n",
       "count  204.00  204.00  ...  204.00     204.00    204.00    204.00      204.00   \n",
       "mean     0.73    2.25  ...    1.48       7.33    172.75     24.90       23.84   \n",
       "std      0.93    0.68  ...    1.29       3.08     60.60      6.42       15.81   \n",
       "min      0.00    0.29  ...   -1.91       2.11     50.00     10.00        5.06   \n",
       "25%      0.00    1.87  ...    0.55       5.06    129.00     21.00       14.80   \n",
       "50%      0.50    2.42  ...    1.37       6.75    161.50     24.00       20.36   \n",
       "75%      1.00    2.81  ...    2.32       8.79    207.50     30.00       28.39   \n",
       "max      5.00    3.00  ...    5.30      19.00    405.00     46.00      152.00   \n",
       "\n",
       "       oppda_att  oppda_def  xG_diff  xGA_diff  xpts_diff  \n",
       "count     204.00     204.00   204.00    204.00     204.00  \n",
       "mean      401.89      21.31    -0.25      0.07      -0.17  \n",
       "std        66.31       9.30     1.31      0.73       0.91  \n",
       "min       240.00       2.00    -4.38     -2.44      -2.50  \n",
       "25%       355.75      14.00    -1.09     -0.30      -0.66  \n",
       "50%       404.00      20.00    -0.19      0.22      -0.21  \n",
       "75%       444.25      27.00     0.72      0.52      -0.01  \n",
       "max       562.00      65.00     2.41      1.76       2.36  \n",
       "\n",
       "[8 rows x 24 columns]"
      ]
     },
     "execution_count": 4,
     "metadata": {},
     "output_type": "execute_result"
    }
   ],
   "source": [
    "#description of loaded data\n",
    "round(df_all.describe(),2)"
   ]
  },
  {
   "cell_type": "markdown",
   "metadata": {},
   "source": [
    "## 2.1 Data Cleaning"
   ]
  },
  {
   "cell_type": "code",
   "execution_count": 3,
   "metadata": {},
   "outputs": [
    {
     "data": {
      "text/html": [
       "<div>\n",
       "<style scoped>\n",
       "    .dataframe tbody tr th:only-of-type {\n",
       "        vertical-align: middle;\n",
       "    }\n",
       "\n",
       "    .dataframe tbody tr th {\n",
       "        vertical-align: top;\n",
       "    }\n",
       "\n",
       "    .dataframe thead th {\n",
       "        text-align: right;\n",
       "    }\n",
       "</style>\n",
       "<table border=\"1\" class=\"dataframe\">\n",
       "  <thead>\n",
       "    <tr style=\"text-align: right;\">\n",
       "      <th></th>\n",
       "      <th>league</th>\n",
       "      <th>year</th>\n",
       "      <th>xG</th>\n",
       "      <th>xGA</th>\n",
       "      <th>npxG</th>\n",
       "      <th>npxGA</th>\n",
       "      <th>deep</th>\n",
       "      <th>deep_allowed</th>\n",
       "      <th>scored</th>\n",
       "      <th>missed</th>\n",
       "      <th>...</th>\n",
       "      <th>ppda_att</th>\n",
       "      <th>ppda_def</th>\n",
       "      <th>oppda_coef</th>\n",
       "      <th>oppda_att</th>\n",
       "      <th>oppda_def</th>\n",
       "      <th>team</th>\n",
       "      <th>xG_diff</th>\n",
       "      <th>xGA_diff</th>\n",
       "      <th>xpts_diff</th>\n",
       "      <th>Game_Status</th>\n",
       "    </tr>\n",
       "    <tr>\n",
       "      <th>date</th>\n",
       "      <th></th>\n",
       "      <th></th>\n",
       "      <th></th>\n",
       "      <th></th>\n",
       "      <th></th>\n",
       "      <th></th>\n",
       "      <th></th>\n",
       "      <th></th>\n",
       "      <th></th>\n",
       "      <th></th>\n",
       "      <th></th>\n",
       "      <th></th>\n",
       "      <th></th>\n",
       "      <th></th>\n",
       "      <th></th>\n",
       "      <th></th>\n",
       "      <th></th>\n",
       "      <th></th>\n",
       "      <th></th>\n",
       "      <th></th>\n",
       "      <th></th>\n",
       "    </tr>\n",
       "  </thead>\n",
       "  <tbody>\n",
       "    <tr>\n",
       "      <th>2014-08-22</th>\n",
       "      <td>Bundesliga</td>\n",
       "      <td>2014</td>\n",
       "      <td>2.57012</td>\n",
       "      <td>1.198420</td>\n",
       "      <td>2.57012</td>\n",
       "      <td>1.198420</td>\n",
       "      <td>5</td>\n",
       "      <td>4</td>\n",
       "      <td>2</td>\n",
       "      <td>1</td>\n",
       "      <td>...</td>\n",
       "      <td>231</td>\n",
       "      <td>24</td>\n",
       "      <td>21.850000</td>\n",
       "      <td>437</td>\n",
       "      <td>20</td>\n",
       "      <td>Bayern Munich</td>\n",
       "      <td>0.57012</td>\n",
       "      <td>0.198420</td>\n",
       "      <td>-0.6514</td>\n",
       "      <td>1</td>\n",
       "    </tr>\n",
       "    <tr>\n",
       "      <th>2014-08-30</th>\n",
       "      <td>Bundesliga</td>\n",
       "      <td>2014</td>\n",
       "      <td>1.50328</td>\n",
       "      <td>1.307950</td>\n",
       "      <td>1.50328</td>\n",
       "      <td>1.307950</td>\n",
       "      <td>10</td>\n",
       "      <td>1</td>\n",
       "      <td>1</td>\n",
       "      <td>1</td>\n",
       "      <td>...</td>\n",
       "      <td>195</td>\n",
       "      <td>41</td>\n",
       "      <td>17.695652</td>\n",
       "      <td>407</td>\n",
       "      <td>23</td>\n",
       "      <td>Bayern Munich</td>\n",
       "      <td>0.50328</td>\n",
       "      <td>0.307950</td>\n",
       "      <td>0.5143</td>\n",
       "      <td>0</td>\n",
       "    </tr>\n",
       "    <tr>\n",
       "      <th>2014-09-13</th>\n",
       "      <td>Bundesliga</td>\n",
       "      <td>2014</td>\n",
       "      <td>1.22987</td>\n",
       "      <td>0.310166</td>\n",
       "      <td>1.22987</td>\n",
       "      <td>0.310166</td>\n",
       "      <td>13</td>\n",
       "      <td>3</td>\n",
       "      <td>2</td>\n",
       "      <td>0</td>\n",
       "      <td>...</td>\n",
       "      <td>167</td>\n",
       "      <td>33</td>\n",
       "      <td>16.961538</td>\n",
       "      <td>441</td>\n",
       "      <td>26</td>\n",
       "      <td>Bayern Munich</td>\n",
       "      <td>-0.77013</td>\n",
       "      <td>0.310166</td>\n",
       "      <td>-0.8412</td>\n",
       "      <td>1</td>\n",
       "    </tr>\n",
       "    <tr>\n",
       "      <th>2014-09-20</th>\n",
       "      <td>Bundesliga</td>\n",
       "      <td>2014</td>\n",
       "      <td>1.03519</td>\n",
       "      <td>0.203118</td>\n",
       "      <td>1.03519</td>\n",
       "      <td>0.203118</td>\n",
       "      <td>6</td>\n",
       "      <td>2</td>\n",
       "      <td>0</td>\n",
       "      <td>0</td>\n",
       "      <td>...</td>\n",
       "      <td>115</td>\n",
       "      <td>26</td>\n",
       "      <td>9.446809</td>\n",
       "      <td>444</td>\n",
       "      <td>47</td>\n",
       "      <td>Bayern Munich</td>\n",
       "      <td>1.03519</td>\n",
       "      <td>0.203118</td>\n",
       "      <td>1.1367</td>\n",
       "      <td>0</td>\n",
       "    </tr>\n",
       "    <tr>\n",
       "      <th>2014-09-23</th>\n",
       "      <td>Bundesliga</td>\n",
       "      <td>2014</td>\n",
       "      <td>3.48286</td>\n",
       "      <td>0.402844</td>\n",
       "      <td>3.48286</td>\n",
       "      <td>0.402844</td>\n",
       "      <td>23</td>\n",
       "      <td>2</td>\n",
       "      <td>4</td>\n",
       "      <td>0</td>\n",
       "      <td>...</td>\n",
       "      <td>170</td>\n",
       "      <td>40</td>\n",
       "      <td>44.800000</td>\n",
       "      <td>448</td>\n",
       "      <td>10</td>\n",
       "      <td>Bayern Munich</td>\n",
       "      <td>-0.51714</td>\n",
       "      <td>0.402844</td>\n",
       "      <td>-0.0713</td>\n",
       "      <td>1</td>\n",
       "    </tr>\n",
       "    <tr>\n",
       "      <th>...</th>\n",
       "      <td>...</td>\n",
       "      <td>...</td>\n",
       "      <td>...</td>\n",
       "      <td>...</td>\n",
       "      <td>...</td>\n",
       "      <td>...</td>\n",
       "      <td>...</td>\n",
       "      <td>...</td>\n",
       "      <td>...</td>\n",
       "      <td>...</td>\n",
       "      <td>...</td>\n",
       "      <td>...</td>\n",
       "      <td>...</td>\n",
       "      <td>...</td>\n",
       "      <td>...</td>\n",
       "      <td>...</td>\n",
       "      <td>...</td>\n",
       "      <td>...</td>\n",
       "      <td>...</td>\n",
       "      <td>...</td>\n",
       "      <td>...</td>\n",
       "    </tr>\n",
       "    <tr>\n",
       "      <th>2020-06-06</th>\n",
       "      <td>Bundesliga</td>\n",
       "      <td>2019</td>\n",
       "      <td>2.65130</td>\n",
       "      <td>0.768558</td>\n",
       "      <td>2.65130</td>\n",
       "      <td>0.768558</td>\n",
       "      <td>11</td>\n",
       "      <td>3</td>\n",
       "      <td>4</td>\n",
       "      <td>2</td>\n",
       "      <td>...</td>\n",
       "      <td>352</td>\n",
       "      <td>31</td>\n",
       "      <td>12.548387</td>\n",
       "      <td>389</td>\n",
       "      <td>31</td>\n",
       "      <td>Bayern Munich</td>\n",
       "      <td>-1.34870</td>\n",
       "      <td>-1.231442</td>\n",
       "      <td>-0.4318</td>\n",
       "      <td>0</td>\n",
       "    </tr>\n",
       "    <tr>\n",
       "      <th>2020-06-13</th>\n",
       "      <td>Bundesliga</td>\n",
       "      <td>2019</td>\n",
       "      <td>1.77878</td>\n",
       "      <td>0.983991</td>\n",
       "      <td>1.77878</td>\n",
       "      <td>0.983991</td>\n",
       "      <td>8</td>\n",
       "      <td>4</td>\n",
       "      <td>2</td>\n",
       "      <td>1</td>\n",
       "      <td>...</td>\n",
       "      <td>405</td>\n",
       "      <td>30</td>\n",
       "      <td>20.687500</td>\n",
       "      <td>331</td>\n",
       "      <td>16</td>\n",
       "      <td>Bayern Munich</td>\n",
       "      <td>-0.22122</td>\n",
       "      <td>-0.016009</td>\n",
       "      <td>-1.0049</td>\n",
       "      <td>1</td>\n",
       "    </tr>\n",
       "    <tr>\n",
       "      <th>2020-06-16</th>\n",
       "      <td>Bundesliga</td>\n",
       "      <td>2019</td>\n",
       "      <td>1.33112</td>\n",
       "      <td>0.274502</td>\n",
       "      <td>1.33112</td>\n",
       "      <td>0.274502</td>\n",
       "      <td>15</td>\n",
       "      <td>4</td>\n",
       "      <td>1</td>\n",
       "      <td>0</td>\n",
       "      <td>...</td>\n",
       "      <td>261</td>\n",
       "      <td>33</td>\n",
       "      <td>25.000000</td>\n",
       "      <td>325</td>\n",
       "      <td>13</td>\n",
       "      <td>Bayern Munich</td>\n",
       "      <td>0.33112</td>\n",
       "      <td>0.274502</td>\n",
       "      <td>-0.7094</td>\n",
       "      <td>0</td>\n",
       "    </tr>\n",
       "    <tr>\n",
       "      <th>2020-06-20</th>\n",
       "      <td>Bundesliga</td>\n",
       "      <td>2019</td>\n",
       "      <td>2.14695</td>\n",
       "      <td>1.426710</td>\n",
       "      <td>2.14695</td>\n",
       "      <td>1.426710</td>\n",
       "      <td>16</td>\n",
       "      <td>5</td>\n",
       "      <td>3</td>\n",
       "      <td>1</td>\n",
       "      <td>...</td>\n",
       "      <td>250</td>\n",
       "      <td>23</td>\n",
       "      <td>18.736842</td>\n",
       "      <td>356</td>\n",
       "      <td>19</td>\n",
       "      <td>Bayern Munich</td>\n",
       "      <td>-0.85305</td>\n",
       "      <td>0.426710</td>\n",
       "      <td>-1.0879</td>\n",
       "      <td>1</td>\n",
       "    </tr>\n",
       "    <tr>\n",
       "      <th>2020-06-27</th>\n",
       "      <td>Bundesliga</td>\n",
       "      <td>2019</td>\n",
       "      <td>3.22208</td>\n",
       "      <td>0.745741</td>\n",
       "      <td>2.46431</td>\n",
       "      <td>0.745741</td>\n",
       "      <td>7</td>\n",
       "      <td>2</td>\n",
       "      <td>4</td>\n",
       "      <td>0</td>\n",
       "      <td>...</td>\n",
       "      <td>196</td>\n",
       "      <td>19</td>\n",
       "      <td>15.238095</td>\n",
       "      <td>320</td>\n",
       "      <td>21</td>\n",
       "      <td>Bayern Munich</td>\n",
       "      <td>-0.77792</td>\n",
       "      <td>0.745741</td>\n",
       "      <td>-0.2336</td>\n",
       "      <td>0</td>\n",
       "    </tr>\n",
       "  </tbody>\n",
       "</table>\n",
       "<p>204 rows × 28 columns</p>\n",
       "</div>"
      ],
      "text/plain": [
       "                league  year       xG       xGA     npxG     npxGA  deep  \\\n",
       "date                                                                       \n",
       "2014-08-22  Bundesliga  2014  2.57012  1.198420  2.57012  1.198420     5   \n",
       "2014-08-30  Bundesliga  2014  1.50328  1.307950  1.50328  1.307950    10   \n",
       "2014-09-13  Bundesliga  2014  1.22987  0.310166  1.22987  0.310166    13   \n",
       "2014-09-20  Bundesliga  2014  1.03519  0.203118  1.03519  0.203118     6   \n",
       "2014-09-23  Bundesliga  2014  3.48286  0.402844  3.48286  0.402844    23   \n",
       "...                ...   ...      ...       ...      ...       ...   ...   \n",
       "2020-06-06  Bundesliga  2019  2.65130  0.768558  2.65130  0.768558    11   \n",
       "2020-06-13  Bundesliga  2019  1.77878  0.983991  1.77878  0.983991     8   \n",
       "2020-06-16  Bundesliga  2019  1.33112  0.274502  1.33112  0.274502    15   \n",
       "2020-06-20  Bundesliga  2019  2.14695  1.426710  2.14695  1.426710    16   \n",
       "2020-06-27  Bundesliga  2019  3.22208  0.745741  2.46431  0.745741     7   \n",
       "\n",
       "            deep_allowed  scored  missed  ...  ppda_att ppda_def  oppda_coef  \\\n",
       "date                                      ...                                  \n",
       "2014-08-22             4       2       1  ...       231       24   21.850000   \n",
       "2014-08-30             1       1       1  ...       195       41   17.695652   \n",
       "2014-09-13             3       2       0  ...       167       33   16.961538   \n",
       "2014-09-20             2       0       0  ...       115       26    9.446809   \n",
       "2014-09-23             2       4       0  ...       170       40   44.800000   \n",
       "...                  ...     ...     ...  ...       ...      ...         ...   \n",
       "2020-06-06             3       4       2  ...       352       31   12.548387   \n",
       "2020-06-13             4       2       1  ...       405       30   20.687500   \n",
       "2020-06-16             4       1       0  ...       261       33   25.000000   \n",
       "2020-06-20             5       3       1  ...       250       23   18.736842   \n",
       "2020-06-27             2       4       0  ...       196       19   15.238095   \n",
       "\n",
       "            oppda_att  oppda_def           team  xG_diff  xGA_diff  xpts_diff  \\\n",
       "date                                                                            \n",
       "2014-08-22        437         20  Bayern Munich  0.57012  0.198420    -0.6514   \n",
       "2014-08-30        407         23  Bayern Munich  0.50328  0.307950     0.5143   \n",
       "2014-09-13        441         26  Bayern Munich -0.77013  0.310166    -0.8412   \n",
       "2014-09-20        444         47  Bayern Munich  1.03519  0.203118     1.1367   \n",
       "2014-09-23        448         10  Bayern Munich -0.51714  0.402844    -0.0713   \n",
       "...               ...        ...            ...      ...       ...        ...   \n",
       "2020-06-06        389         31  Bayern Munich -1.34870 -1.231442    -0.4318   \n",
       "2020-06-13        331         16  Bayern Munich -0.22122 -0.016009    -1.0049   \n",
       "2020-06-16        325         13  Bayern Munich  0.33112  0.274502    -0.7094   \n",
       "2020-06-20        356         19  Bayern Munich -0.85305  0.426710    -1.0879   \n",
       "2020-06-27        320         21  Bayern Munich -0.77792  0.745741    -0.2336   \n",
       "\n",
       "            Game_Status  \n",
       "date                     \n",
       "2014-08-22            1  \n",
       "2014-08-30            0  \n",
       "2014-09-13            1  \n",
       "2014-09-20            0  \n",
       "2014-09-23            1  \n",
       "...                 ...  \n",
       "2020-06-06            0  \n",
       "2020-06-13            1  \n",
       "2020-06-16            0  \n",
       "2020-06-20            1  \n",
       "2020-06-27            0  \n",
       "\n",
       "[204 rows x 28 columns]"
      ]
     },
     "execution_count": 3,
     "metadata": {},
     "output_type": "execute_result"
    }
   ],
   "source": [
    "#Convert the 'home_away' column into categorical columns by using 'get_dummies' method. You want to use this information about away and home games as a feature\n",
    "g_status=pd.get_dummies(df_all['h_a'],drop_first=True)\n",
    "\n",
    "# Drop the home_away coulmn\n",
    "df_all=df_all.drop('h_a',axis=1)\n",
    "\n",
    "# Add the dummy-states independent variables and rename the new column as you want. Here 'Game_Status' is chosen\n",
    "df_all=pd.concat([df_all,g_status],axis=1)\n",
    "df_all=df_all.rename(columns={'h':'Game_Status'})\n",
    "\n",
    "#Check if all worked by loading the adjusted dataframe\n",
    "df_all"
   ]
  },
  {
   "cell_type": "code",
   "execution_count": 4,
   "metadata": {},
   "outputs": [
    {
     "data": {
      "text/plain": [
       "date\n",
       "2014-08-22    8\n",
       "2014-08-30    8\n",
       "2014-09-13    9\n",
       "2014-09-20    9\n",
       "2014-09-23    9\n",
       "             ..\n",
       "2020-06-06    6\n",
       "2020-06-13    6\n",
       "2020-06-16    6\n",
       "2020-06-20    6\n",
       "2020-06-27    6\n",
       "Name: Month, Length: 204, dtype: int64"
      ]
     },
     "execution_count": 4,
     "metadata": {},
     "output_type": "execute_result"
    }
   ],
   "source": [
    "# Add a few derived regression variables. In this case we are tranforming the date column into 'Day', 'Month' & 'Day_of_Week'\"M1 Day 1.ipynb\"\n",
    "# the column date is put as the index, which helps to better compare the results from the test and train dataset \n",
    "ds = df_all.index.to_series()\n",
    "df_all['Month'] = ds.dt.month\n",
    "df_all['Day_of_Week'] = ds.dt.dayofweek\n",
    "df_all['Day'] = ds.dt.day\n",
    "df_all['Month']"
   ]
  },
  {
   "cell_type": "markdown",
   "metadata": {},
   "source": [
    "# 3. Plots\n",
    "\n",
    "In order to get a better (visual) understanding of the dataframe, following few pots from the loaded dataset"
   ]
  },
  {
   "cell_type": "code",
   "execution_count": 118,
   "metadata": {},
   "outputs": [
    {
     "data": {
      "application/vnd.plotly.v1+json": {
       "config": {
        "plotlyServerURL": "https://plot.ly"
       },
       "data": [
        {
         "type": "histogram",
         "x": [
          "2014-08-22T00:00:00",
          "2014-08-30T00:00:00",
          "2014-09-13T00:00:00",
          "2014-09-20T00:00:00",
          "2014-09-23T00:00:00",
          "2014-09-27T00:00:00",
          "2014-04-10T00:00:00",
          "2014-10-18T00:00:00",
          "2014-10-26T00:00:00",
          "2014-01-11T00:00:00",
          "2014-08-11T00:00:00",
          "2014-11-22T00:00:00",
          "2014-11-29T00:00:00",
          "2014-06-12T00:00:00",
          "2014-12-13T00:00:00",
          "2014-12-16T00:00:00",
          "2014-12-19T00:00:00",
          "2015-01-30T00:00:00",
          "2015-03-02T00:00:00",
          "2015-07-02T00:00:00",
          "2015-02-14T00:00:00",
          "2015-02-21T00:00:00",
          "2015-02-27T00:00:00",
          "2015-07-03T00:00:00",
          "2015-03-14T00:00:00",
          "2015-03-22T00:00:00",
          "2015-04-04T00:00:00",
          "2015-11-04T00:00:00",
          "2015-04-18T00:00:00",
          "2015-04-25T00:00:00",
          "2015-02-05T00:00:00",
          "2015-09-05T00:00:00",
          "2015-05-16T00:00:00",
          "2015-05-23T00:00:00",
          "2015-08-14T00:00:00",
          "2015-08-22T00:00:00",
          "2015-08-29T00:00:00",
          "2015-12-09T00:00:00",
          "2015-09-19T00:00:00",
          "2015-09-22T00:00:00",
          "2015-09-26T00:00:00",
          "2015-04-10T00:00:00",
          "2015-10-17T00:00:00",
          "2015-10-24T00:00:00",
          "2015-10-30T00:00:00",
          "2015-07-11T00:00:00",
          "2015-11-21T00:00:00",
          "2015-11-28T00:00:00",
          "2015-05-12T00:00:00",
          "2015-12-12T00:00:00",
          "2015-12-19T00:00:00",
          "2016-01-22T00:00:00",
          "2016-01-31T00:00:00",
          "2016-06-02T00:00:00",
          "2016-02-14T00:00:00",
          "2016-02-20T00:00:00",
          "2016-02-27T00:00:00",
          "2016-02-03T00:00:00",
          "2016-05-03T00:00:00",
          "2016-12-03T00:00:00",
          "2016-03-19T00:00:00",
          "2016-02-04T00:00:00",
          "2016-09-04T00:00:00",
          "2016-04-16T00:00:00",
          "2016-04-23T00:00:00",
          "2016-04-30T00:00:00",
          "2016-07-05T00:00:00",
          "2016-05-14T00:00:00",
          "2016-08-26T00:00:00",
          "2016-09-09T00:00:00",
          "2016-09-17T00:00:00",
          "2016-09-21T00:00:00",
          "2016-09-24T00:00:00",
          "2016-01-10T00:00:00",
          "2016-10-15T00:00:00",
          "2016-10-22T00:00:00",
          "2016-10-29T00:00:00",
          "2016-05-11T00:00:00",
          "2016-11-19T00:00:00",
          "2016-11-26T00:00:00",
          "2016-02-12T00:00:00",
          "2016-10-12T00:00:00",
          "2016-12-18T00:00:00",
          "2016-12-21T00:00:00",
          "2017-01-20T00:00:00",
          "2017-01-28T00:00:00",
          "2017-04-02T00:00:00",
          "2017-11-02T00:00:00",
          "2017-02-18T00:00:00",
          "2017-02-25T00:00:00",
          "2017-04-03T00:00:00",
          "2017-11-03T00:00:00",
          "2017-03-19T00:00:00",
          "2017-01-04T00:00:00",
          "2017-04-04T00:00:00",
          "2017-08-04T00:00:00",
          "2017-04-15T00:00:00",
          "2017-04-22T00:00:00",
          "2017-04-29T00:00:00",
          "2017-06-05T00:00:00",
          "2017-05-13T00:00:00",
          "2017-05-20T00:00:00",
          "2017-08-18T00:00:00",
          "2017-08-26T00:00:00",
          "2017-09-09T00:00:00",
          "2017-09-16T00:00:00",
          "2017-09-19T00:00:00",
          "2017-09-22T00:00:00",
          "2017-01-10T00:00:00",
          "2017-10-14T00:00:00",
          "2017-10-21T00:00:00",
          "2017-10-28T00:00:00",
          "2017-04-11T00:00:00",
          "2017-11-18T00:00:00",
          "2017-11-25T00:00:00",
          "2017-02-12T00:00:00",
          "2017-09-12T00:00:00",
          "2017-12-13T00:00:00",
          "2017-12-16T00:00:00",
          "2018-12-01T00:00:00",
          "2018-01-21T00:00:00",
          "2018-01-27T00:00:00",
          "2018-03-02T00:00:00",
          "2018-10-02T00:00:00",
          "2018-02-17T00:00:00",
          "2018-02-24T00:00:00",
          "2018-04-03T00:00:00",
          "2018-10-03T00:00:00",
          "2018-03-18T00:00:00",
          "2018-03-31T00:00:00",
          "2018-07-04T00:00:00",
          "2018-04-14T00:00:00",
          "2018-04-21T00:00:00",
          "2018-04-28T00:00:00",
          "2018-05-05T00:00:00",
          "2018-12-05T00:00:00",
          "2018-08-24T00:00:00",
          "2018-01-09T00:00:00",
          "2018-09-15T00:00:00",
          "2018-09-22T00:00:00",
          "2018-09-25T00:00:00",
          "2018-09-28T00:00:00",
          "2018-06-10T00:00:00",
          "2018-10-20T00:00:00",
          "2018-10-27T00:00:00",
          "2018-03-11T00:00:00",
          "2018-10-11T00:00:00",
          "2018-11-24T00:00:00",
          "2018-01-12T00:00:00",
          "2018-08-12T00:00:00",
          "2018-12-15T00:00:00",
          "2018-12-19T00:00:00",
          "2018-12-22T00:00:00",
          "2019-01-18T00:00:00",
          "2019-01-27T00:00:00",
          "2019-02-02T00:00:00",
          "2019-09-02T00:00:00",
          "2019-02-15T00:00:00",
          "2019-02-23T00:00:00",
          "2019-02-03T00:00:00",
          "2019-09-03T00:00:00",
          "2019-03-17T00:00:00",
          "2019-03-30T00:00:00",
          "2019-06-04T00:00:00",
          "2019-04-14T00:00:00",
          "2019-04-20T00:00:00",
          "2019-04-28T00:00:00",
          "2019-04-05T00:00:00",
          "2019-11-05T00:00:00",
          "2019-05-18T00:00:00",
          "2019-08-16T00:00:00",
          "2019-08-24T00:00:00",
          "2019-08-31T00:00:00",
          "2019-09-14T00:00:00",
          "2019-09-21T00:00:00",
          "2019-09-28T00:00:00",
          "2019-05-10T00:00:00",
          "2019-10-19T00:00:00",
          "2019-10-26T00:00:00",
          "2019-02-11T00:00:00",
          "2019-09-11T00:00:00",
          "2019-11-23T00:00:00",
          "2019-11-30T00:00:00",
          "2019-07-12T00:00:00",
          "2019-12-14T00:00:00",
          "2019-12-18T00:00:00",
          "2019-12-21T00:00:00",
          "2020-01-19T00:00:00",
          "2020-01-25T00:00:00",
          "2020-01-02T00:00:00",
          "2020-09-02T00:00:00",
          "2020-02-16T00:00:00",
          "2020-02-21T00:00:00",
          "2020-02-29T00:00:00",
          "2020-08-03T00:00:00",
          "2020-05-17T00:00:00",
          "2020-05-23T00:00:00",
          "2020-05-26T00:00:00",
          "2020-05-30T00:00:00",
          "2020-06-06T00:00:00",
          "2020-06-13T00:00:00",
          "2020-06-16T00:00:00",
          "2020-06-20T00:00:00",
          "2020-06-27T00:00:00"
         ],
         "y": [
          2,
          1,
          2,
          0,
          4,
          2,
          4,
          6,
          0,
          2,
          4,
          4,
          1,
          1,
          4,
          2,
          2,
          1,
          1,
          2,
          8,
          6,
          4,
          3,
          4,
          0,
          1,
          3,
          2,
          1,
          0,
          0,
          1,
          2,
          5,
          2,
          3,
          2,
          3,
          5,
          3,
          5,
          1,
          4,
          0,
          4,
          3,
          2,
          1,
          2,
          1,
          2,
          2,
          0,
          3,
          3,
          2,
          1,
          0,
          5,
          1,
          1,
          3,
          3,
          2,
          1,
          2,
          3,
          6,
          2,
          3,
          3,
          1,
          1,
          2,
          2,
          3,
          1,
          0,
          2,
          3,
          5,
          1,
          3,
          2,
          2,
          1,
          2,
          1,
          8,
          3,
          3,
          1,
          6,
          0,
          4,
          0,
          2,
          6,
          1,
          5,
          4,
          3,
          2,
          0,
          4,
          3,
          2,
          2,
          5,
          1,
          2,
          3,
          3,
          1,
          3,
          1,
          1,
          1,
          3,
          4,
          5,
          2,
          2,
          2,
          0,
          4,
          6,
          1,
          6,
          4,
          5,
          3,
          4,
          3,
          1,
          3,
          3,
          3,
          2,
          1,
          0,
          0,
          3,
          2,
          1,
          2,
          3,
          2,
          3,
          4,
          1,
          3,
          3,
          4,
          1,
          3,
          3,
          1,
          5,
          6,
          6,
          1,
          5,
          4,
          1,
          1,
          3,
          0,
          5,
          2,
          3,
          6,
          1,
          4,
          3,
          1,
          2,
          2,
          1,
          4,
          4,
          1,
          1,
          6,
          3,
          2,
          4,
          5,
          3,
          0,
          4,
          3,
          6,
          2,
          2,
          5,
          1,
          5,
          4,
          2,
          1,
          3,
          4
         ]
        }
       ],
       "layout": {
        "template": {
         "data": {
          "bar": [
           {
            "error_x": {
             "color": "#2a3f5f"
            },
            "error_y": {
             "color": "#2a3f5f"
            },
            "marker": {
             "line": {
              "color": "#E5ECF6",
              "width": 0.5
             },
             "pattern": {
              "fillmode": "overlay",
              "size": 10,
              "solidity": 0.2
             }
            },
            "type": "bar"
           }
          ],
          "barpolar": [
           {
            "marker": {
             "line": {
              "color": "#E5ECF6",
              "width": 0.5
             },
             "pattern": {
              "fillmode": "overlay",
              "size": 10,
              "solidity": 0.2
             }
            },
            "type": "barpolar"
           }
          ],
          "carpet": [
           {
            "aaxis": {
             "endlinecolor": "#2a3f5f",
             "gridcolor": "white",
             "linecolor": "white",
             "minorgridcolor": "white",
             "startlinecolor": "#2a3f5f"
            },
            "baxis": {
             "endlinecolor": "#2a3f5f",
             "gridcolor": "white",
             "linecolor": "white",
             "minorgridcolor": "white",
             "startlinecolor": "#2a3f5f"
            },
            "type": "carpet"
           }
          ],
          "choropleth": [
           {
            "colorbar": {
             "outlinewidth": 0,
             "ticks": ""
            },
            "type": "choropleth"
           }
          ],
          "contour": [
           {
            "colorbar": {
             "outlinewidth": 0,
             "ticks": ""
            },
            "colorscale": [
             [
              0,
              "#0d0887"
             ],
             [
              0.1111111111111111,
              "#46039f"
             ],
             [
              0.2222222222222222,
              "#7201a8"
             ],
             [
              0.3333333333333333,
              "#9c179e"
             ],
             [
              0.4444444444444444,
              "#bd3786"
             ],
             [
              0.5555555555555556,
              "#d8576b"
             ],
             [
              0.6666666666666666,
              "#ed7953"
             ],
             [
              0.7777777777777778,
              "#fb9f3a"
             ],
             [
              0.8888888888888888,
              "#fdca26"
             ],
             [
              1,
              "#f0f921"
             ]
            ],
            "type": "contour"
           }
          ],
          "contourcarpet": [
           {
            "colorbar": {
             "outlinewidth": 0,
             "ticks": ""
            },
            "type": "contourcarpet"
           }
          ],
          "heatmap": [
           {
            "colorbar": {
             "outlinewidth": 0,
             "ticks": ""
            },
            "colorscale": [
             [
              0,
              "#0d0887"
             ],
             [
              0.1111111111111111,
              "#46039f"
             ],
             [
              0.2222222222222222,
              "#7201a8"
             ],
             [
              0.3333333333333333,
              "#9c179e"
             ],
             [
              0.4444444444444444,
              "#bd3786"
             ],
             [
              0.5555555555555556,
              "#d8576b"
             ],
             [
              0.6666666666666666,
              "#ed7953"
             ],
             [
              0.7777777777777778,
              "#fb9f3a"
             ],
             [
              0.8888888888888888,
              "#fdca26"
             ],
             [
              1,
              "#f0f921"
             ]
            ],
            "type": "heatmap"
           }
          ],
          "heatmapgl": [
           {
            "colorbar": {
             "outlinewidth": 0,
             "ticks": ""
            },
            "colorscale": [
             [
              0,
              "#0d0887"
             ],
             [
              0.1111111111111111,
              "#46039f"
             ],
             [
              0.2222222222222222,
              "#7201a8"
             ],
             [
              0.3333333333333333,
              "#9c179e"
             ],
             [
              0.4444444444444444,
              "#bd3786"
             ],
             [
              0.5555555555555556,
              "#d8576b"
             ],
             [
              0.6666666666666666,
              "#ed7953"
             ],
             [
              0.7777777777777778,
              "#fb9f3a"
             ],
             [
              0.8888888888888888,
              "#fdca26"
             ],
             [
              1,
              "#f0f921"
             ]
            ],
            "type": "heatmapgl"
           }
          ],
          "histogram": [
           {
            "marker": {
             "pattern": {
              "fillmode": "overlay",
              "size": 10,
              "solidity": 0.2
             }
            },
            "type": "histogram"
           }
          ],
          "histogram2d": [
           {
            "colorbar": {
             "outlinewidth": 0,
             "ticks": ""
            },
            "colorscale": [
             [
              0,
              "#0d0887"
             ],
             [
              0.1111111111111111,
              "#46039f"
             ],
             [
              0.2222222222222222,
              "#7201a8"
             ],
             [
              0.3333333333333333,
              "#9c179e"
             ],
             [
              0.4444444444444444,
              "#bd3786"
             ],
             [
              0.5555555555555556,
              "#d8576b"
             ],
             [
              0.6666666666666666,
              "#ed7953"
             ],
             [
              0.7777777777777778,
              "#fb9f3a"
             ],
             [
              0.8888888888888888,
              "#fdca26"
             ],
             [
              1,
              "#f0f921"
             ]
            ],
            "type": "histogram2d"
           }
          ],
          "histogram2dcontour": [
           {
            "colorbar": {
             "outlinewidth": 0,
             "ticks": ""
            },
            "colorscale": [
             [
              0,
              "#0d0887"
             ],
             [
              0.1111111111111111,
              "#46039f"
             ],
             [
              0.2222222222222222,
              "#7201a8"
             ],
             [
              0.3333333333333333,
              "#9c179e"
             ],
             [
              0.4444444444444444,
              "#bd3786"
             ],
             [
              0.5555555555555556,
              "#d8576b"
             ],
             [
              0.6666666666666666,
              "#ed7953"
             ],
             [
              0.7777777777777778,
              "#fb9f3a"
             ],
             [
              0.8888888888888888,
              "#fdca26"
             ],
             [
              1,
              "#f0f921"
             ]
            ],
            "type": "histogram2dcontour"
           }
          ],
          "mesh3d": [
           {
            "colorbar": {
             "outlinewidth": 0,
             "ticks": ""
            },
            "type": "mesh3d"
           }
          ],
          "parcoords": [
           {
            "line": {
             "colorbar": {
              "outlinewidth": 0,
              "ticks": ""
             }
            },
            "type": "parcoords"
           }
          ],
          "pie": [
           {
            "automargin": true,
            "type": "pie"
           }
          ],
          "scatter": [
           {
            "fillpattern": {
             "fillmode": "overlay",
             "size": 10,
             "solidity": 0.2
            },
            "type": "scatter"
           }
          ],
          "scatter3d": [
           {
            "line": {
             "colorbar": {
              "outlinewidth": 0,
              "ticks": ""
             }
            },
            "marker": {
             "colorbar": {
              "outlinewidth": 0,
              "ticks": ""
             }
            },
            "type": "scatter3d"
           }
          ],
          "scattercarpet": [
           {
            "marker": {
             "colorbar": {
              "outlinewidth": 0,
              "ticks": ""
             }
            },
            "type": "scattercarpet"
           }
          ],
          "scattergeo": [
           {
            "marker": {
             "colorbar": {
              "outlinewidth": 0,
              "ticks": ""
             }
            },
            "type": "scattergeo"
           }
          ],
          "scattergl": [
           {
            "marker": {
             "colorbar": {
              "outlinewidth": 0,
              "ticks": ""
             }
            },
            "type": "scattergl"
           }
          ],
          "scattermapbox": [
           {
            "marker": {
             "colorbar": {
              "outlinewidth": 0,
              "ticks": ""
             }
            },
            "type": "scattermapbox"
           }
          ],
          "scatterpolar": [
           {
            "marker": {
             "colorbar": {
              "outlinewidth": 0,
              "ticks": ""
             }
            },
            "type": "scatterpolar"
           }
          ],
          "scatterpolargl": [
           {
            "marker": {
             "colorbar": {
              "outlinewidth": 0,
              "ticks": ""
             }
            },
            "type": "scatterpolargl"
           }
          ],
          "scatterternary": [
           {
            "marker": {
             "colorbar": {
              "outlinewidth": 0,
              "ticks": ""
             }
            },
            "type": "scatterternary"
           }
          ],
          "surface": [
           {
            "colorbar": {
             "outlinewidth": 0,
             "ticks": ""
            },
            "colorscale": [
             [
              0,
              "#0d0887"
             ],
             [
              0.1111111111111111,
              "#46039f"
             ],
             [
              0.2222222222222222,
              "#7201a8"
             ],
             [
              0.3333333333333333,
              "#9c179e"
             ],
             [
              0.4444444444444444,
              "#bd3786"
             ],
             [
              0.5555555555555556,
              "#d8576b"
             ],
             [
              0.6666666666666666,
              "#ed7953"
             ],
             [
              0.7777777777777778,
              "#fb9f3a"
             ],
             [
              0.8888888888888888,
              "#fdca26"
             ],
             [
              1,
              "#f0f921"
             ]
            ],
            "type": "surface"
           }
          ],
          "table": [
           {
            "cells": {
             "fill": {
              "color": "#EBF0F8"
             },
             "line": {
              "color": "white"
             }
            },
            "header": {
             "fill": {
              "color": "#C8D4E3"
             },
             "line": {
              "color": "white"
             }
            },
            "type": "table"
           }
          ]
         },
         "layout": {
          "annotationdefaults": {
           "arrowcolor": "#2a3f5f",
           "arrowhead": 0,
           "arrowwidth": 1
          },
          "autotypenumbers": "strict",
          "coloraxis": {
           "colorbar": {
            "outlinewidth": 0,
            "ticks": ""
           }
          },
          "colorscale": {
           "diverging": [
            [
             0,
             "#8e0152"
            ],
            [
             0.1,
             "#c51b7d"
            ],
            [
             0.2,
             "#de77ae"
            ],
            [
             0.3,
             "#f1b6da"
            ],
            [
             0.4,
             "#fde0ef"
            ],
            [
             0.5,
             "#f7f7f7"
            ],
            [
             0.6,
             "#e6f5d0"
            ],
            [
             0.7,
             "#b8e186"
            ],
            [
             0.8,
             "#7fbc41"
            ],
            [
             0.9,
             "#4d9221"
            ],
            [
             1,
             "#276419"
            ]
           ],
           "sequential": [
            [
             0,
             "#0d0887"
            ],
            [
             0.1111111111111111,
             "#46039f"
            ],
            [
             0.2222222222222222,
             "#7201a8"
            ],
            [
             0.3333333333333333,
             "#9c179e"
            ],
            [
             0.4444444444444444,
             "#bd3786"
            ],
            [
             0.5555555555555556,
             "#d8576b"
            ],
            [
             0.6666666666666666,
             "#ed7953"
            ],
            [
             0.7777777777777778,
             "#fb9f3a"
            ],
            [
             0.8888888888888888,
             "#fdca26"
            ],
            [
             1,
             "#f0f921"
            ]
           ],
           "sequentialminus": [
            [
             0,
             "#0d0887"
            ],
            [
             0.1111111111111111,
             "#46039f"
            ],
            [
             0.2222222222222222,
             "#7201a8"
            ],
            [
             0.3333333333333333,
             "#9c179e"
            ],
            [
             0.4444444444444444,
             "#bd3786"
            ],
            [
             0.5555555555555556,
             "#d8576b"
            ],
            [
             0.6666666666666666,
             "#ed7953"
            ],
            [
             0.7777777777777778,
             "#fb9f3a"
            ],
            [
             0.8888888888888888,
             "#fdca26"
            ],
            [
             1,
             "#f0f921"
            ]
           ]
          },
          "colorway": [
           "#636efa",
           "#EF553B",
           "#00cc96",
           "#ab63fa",
           "#FFA15A",
           "#19d3f3",
           "#FF6692",
           "#B6E880",
           "#FF97FF",
           "#FECB52"
          ],
          "font": {
           "color": "#2a3f5f"
          },
          "geo": {
           "bgcolor": "white",
           "lakecolor": "white",
           "landcolor": "#E5ECF6",
           "showlakes": true,
           "showland": true,
           "subunitcolor": "white"
          },
          "hoverlabel": {
           "align": "left"
          },
          "hovermode": "closest",
          "mapbox": {
           "style": "light"
          },
          "paper_bgcolor": "white",
          "plot_bgcolor": "#E5ECF6",
          "polar": {
           "angularaxis": {
            "gridcolor": "white",
            "linecolor": "white",
            "ticks": ""
           },
           "bgcolor": "#E5ECF6",
           "radialaxis": {
            "gridcolor": "white",
            "linecolor": "white",
            "ticks": ""
           }
          },
          "scene": {
           "xaxis": {
            "backgroundcolor": "#E5ECF6",
            "gridcolor": "white",
            "gridwidth": 2,
            "linecolor": "white",
            "showbackground": true,
            "ticks": "",
            "zerolinecolor": "white"
           },
           "yaxis": {
            "backgroundcolor": "#E5ECF6",
            "gridcolor": "white",
            "gridwidth": 2,
            "linecolor": "white",
            "showbackground": true,
            "ticks": "",
            "zerolinecolor": "white"
           },
           "zaxis": {
            "backgroundcolor": "#E5ECF6",
            "gridcolor": "white",
            "gridwidth": 2,
            "linecolor": "white",
            "showbackground": true,
            "ticks": "",
            "zerolinecolor": "white"
           }
          },
          "shapedefaults": {
           "line": {
            "color": "#2a3f5f"
           }
          },
          "ternary": {
           "aaxis": {
            "gridcolor": "white",
            "linecolor": "white",
            "ticks": ""
           },
           "baxis": {
            "gridcolor": "white",
            "linecolor": "white",
            "ticks": ""
           },
           "bgcolor": "#E5ECF6",
           "caxis": {
            "gridcolor": "white",
            "linecolor": "white",
            "ticks": ""
           }
          },
          "title": {
           "x": 0.05
          },
          "xaxis": {
           "automargin": true,
           "gridcolor": "white",
           "linecolor": "white",
           "ticks": "",
           "title": {
            "standoff": 15
           },
           "zerolinecolor": "white",
           "zerolinewidth": 2
          },
          "yaxis": {
           "automargin": true,
           "gridcolor": "white",
           "linecolor": "white",
           "ticks": "",
           "title": {
            "standoff": 15
           },
           "zerolinecolor": "white",
           "zerolinewidth": 2
          }
         }
        }
       }
      }
     },
     "metadata": {},
     "output_type": "display_data"
    }
   ],
   "source": [
    "#Goal distribution over time\n",
    "fig = go.Figure([go.Histogram(x=df_all.index, y=df_all['scored'])])\n",
    "fig.show()"
   ]
  },
  {
   "cell_type": "code",
   "execution_count": 120,
   "metadata": {},
   "outputs": [
    {
     "data": {
      "text/plain": [
       "Text(0.5, 0, 'Number of Goals [-]')"
      ]
     },
     "execution_count": 120,
     "metadata": {},
     "output_type": "execute_result"
    },
    {
     "data": {
      "image/png": "[encoded data removed]",
      "text/plain": [
       "<Figure size 640x480 with 2 Axes>"
      ]
     },
     "metadata": {},
     "output_type": "display_data"
    }
   ],
   "source": [
    "# Use a Histogram Plot to show the goal distribution per game per team\n",
    "plt.subplot(2,2,1)\n",
    "plt.title('mis')\n",
    "df_all['missed'].plot(kind=\"hist\",fill=True,alpha=0.5,histtype='bar', label='all')\n",
    "plt.legend()\n",
    "plt.xlabel('Number of Goals [-]')\n",
    "\n",
    "plt.subplot(2,2,2)\n",
    "plt.title('Goals scored')\n",
    "df_all['scored'].plot(kind=\"hist\",fill=True,alpha=0.5,histtype='bar', label='scored')\n",
    "plt.legend()\n",
    "plt.xlabel('Number of Goals [-]')"
   ]
  },
  {
   "cell_type": "code",
   "execution_count": 17,
   "metadata": {},
   "outputs": [
    {
     "data": {
      "text/plain": [
       "Text(0.5, 0, 'Goals[-]')"
      ]
     },
     "execution_count": 17,
     "metadata": {},
     "output_type": "execute_result"
    },
    {
     "data": {
      "image/png": "[encoded data removed]",
      "text/plain": [
       "<Figure size 1200x1000 with 1 Axes>"
      ]
     },
     "metadata": {},
     "output_type": "display_data"
    }
   ],
   "source": [
    "# Plot the goals distribution per team per match of different teams in order to show the (potential) difference between the teams\n",
    "df_bay=df_all[df_all['team']=='Bayern Munich']\n",
    "df_tor=df_all[df_all['team']=='Torino']\n",
    "df_bil=df_all[df_all['team']=='Athletic Club']\n",
    "\n",
    "plt.figure(figsize=(12,10))\n",
    "plt.subplot(2,2,1)\n",
    "datasets = [df_bay['scored'],df_tor['scored'],df_bil['scored']]\n",
    "dataset_labels = ['scored goals Bayern Munich', 'scored goals FC Torino','scored goals Athletic Bilbao'] \n",
    "plt.title('Distribution Scored Goals')\n",
    "\n",
    "i=0\n",
    "for dataset in datasets[0:3]:\n",
    "    dataset.plot(kind=\"hist\",fill=True,alpha=0.3,histtype='step',label=dataset_labels[i]) #,label=dataset_labels[i]\n",
    "    #print('%10s %1.2f ' % (datasets_labels[i],p))\n",
    "    i+=1\n",
    "\n",
    "plt.legend()\n",
    "plt.xlabel('Goals[-]')"
   ]
  },
  {
   "cell_type": "code",
   "execution_count": 21,
   "metadata": {},
   "outputs": [
    {
     "name": "stderr",
     "output_type": "stream",
     "text": [
      "C:\\Users\\I0331193\\AppData\\Local\\Temp\\ipykernel_20784\\3737430289.py:3: FutureWarning:\n",
      "\n",
      "The default value of numeric_only in DataFrame.corr is deprecated. In a future version, it will default to False. Select only valid columns or specify the value of numeric_only to silence this warning.\n",
      "\n"
     ]
    },
    {
     "data": {
      "text/plain": [
       "[Text(0.5, 0, 'year'),\n",
       " Text(2.5, 0, 'xGA'),\n",
       " Text(4.5, 0, 'npxGA'),\n",
       " Text(6.5, 0, 'deep_allowed'),\n",
       " Text(8.5, 0, 'missed'),\n",
       " Text(10.5, 0, 'wins'),\n",
       " Text(12.5, 0, 'loses'),\n",
       " Text(14.5, 0, 'npxGD'),\n",
       " Text(16.5, 0, 'ppda_att'),\n",
       " Text(18.5, 0, 'oppda_coef'),\n",
       " Text(20.5, 0, 'oppda_def'),\n",
       " Text(22.5, 0, 'xGA_diff'),\n",
       " Text(24.5, 0, 'Total_Goals_per_Game'),\n",
       " Text(26.5, 0, 'Day_of_Week')]"
      ]
     },
     "execution_count": 21,
     "metadata": {},
     "output_type": "execute_result"
    },
    {
     "data": {
      "image/png": "[encoded data removed]",
      "text/plain": [
       "<Figure size 640x480 with 2 Axes>"
      ]
     },
     "metadata": {},
     "output_type": "display_data"
    }
   ],
   "source": [
    "# Plot a confusion matrix  with the method from seaborn\n",
    "\n",
    "# define correlation matrix\n",
    "corr=df_all.corr()\n",
    "\n",
    "#create heatmap in order to show visualdifferences in the confusion matrix\n",
    "ax = sns.heatmap(\n",
    "    corr, \n",
    "    vmin=-1, vmax=1, center=0,\n",
    "    cmap=sns.diverging_palette(20, 220, n=200),\n",
    "    square=True\n",
    ")\n",
    "ax.set_xticklabels(\n",
    "    ax.get_xticklabels(),\n",
    "    rotation=45,\n",
    "    horizontalalignment='right'\n",
    ")"
   ]
  },
  {
   "cell_type": "markdown",
   "metadata": {},
   "source": [
    "# 4. The Poisson Regression Model\n",
    "\n",
    "In this section, the loaded dataframe will be split into train and test dataset and is used in a Poisson regression model from statsmodels. "
   ]
  },
  {
   "cell_type": "code",
   "execution_count": null,
   "metadata": {},
   "outputs": [],
   "source": [
    "pip install statsmodels "
   ]
  },
  {
   "cell_type": "code",
   "execution_count": 110,
   "metadata": {},
   "outputs": [
    {
     "name": "stdout",
     "output_type": "stream",
     "text": [
      "Training data set length=171\n",
      "Testing data set length=33\n"
     ]
    }
   ],
   "source": [
    "# Split the data into training and test sample. The split is 0.8 training and 0.2 test\n",
    "mask = np.random.rand(len(df_all)) < 0.8\n",
    "df_train = df_all[mask]\n",
    "df_test = df_all[~mask]\n",
    "\n",
    "#print the shape / length of the two sample size\n",
    "print('Training data set length='+str(len(df_train)))\n",
    "print('Testing data set length='+str(len(df_test)))"
   ]
  },
  {
   "cell_type": "code",
   "execution_count": 113,
   "metadata": {},
   "outputs": [],
   "source": [
    "# Setup the regression expression in patsy notation. We are telling patsy that 'scored' is our dependent variable and\n",
    "# it depends on the regression variables: Xi\n",
    "# As the features applied changes, following multiple feature combinatins are listed\n",
    "\n",
    "#expr='''scored ~ xG + ppda_att + oppda_att'''\n",
    "#expr='''scored ~ xG+ deep + missed + ppda_att + oppda_att + Month + Game_Status'''\n",
    "#expr='''scored ~ xG + deep + missed + ppda_att + oppda_att + ppda_def + oppda_def + Month + Day_of_Week + Day + Game_Status'''\n",
    "expr='''scored ~ deep + missed + deep_allowed + ppda_att + ppda_def'''\n",
    "\n",
    "#Set up the X and y matrices for train and test samples\n",
    "y_train, X_train = dmatrices(expr, df_train, return_type='dataframe')\n",
    "y_test, X_test = dmatrices(expr, df_test, return_type='dataframe')"
   ]
  },
  {
   "cell_type": "code",
   "execution_count": 114,
   "metadata": {},
   "outputs": [
    {
     "name": "stdout",
     "output_type": "stream",
     "text": [
      "                 Generalized Linear Model Regression Results                  \n",
      "==============================================================================\n",
      "Dep. Variable:                 scored   No. Observations:                  171\n",
      "Model:                            GLM   Df Residuals:                      165\n",
      "Model Family:                 Poisson   Df Model:                            5\n",
      "Link Function:                    Log   Scale:                          1.0000\n",
      "Method:                          IRLS   Log-Likelihood:                -305.13\n",
      "Date:                Wed, 23 Nov 2022   Deviance:                       178.93\n",
      "Time:                        15:09:35   Pearson chi2:                     166.\n",
      "No. Iterations:                     4   Pseudo R-squ. (CS):             0.1715\n",
      "Covariance Type:            nonrobust                                         \n",
      "================================================================================\n",
      "                   coef    std err          z      P>|z|      [0.025      0.975]\n",
      "--------------------------------------------------------------------------------\n",
      "Intercept        0.8658      0.252      3.434      0.001       0.372       1.360\n",
      "deep             0.0212      0.009      2.371      0.018       0.004       0.039\n",
      "missed          -0.1377      0.057     -2.398      0.016      -0.250      -0.025\n",
      "deep_allowed    -0.0602      0.022     -2.698      0.007      -0.104      -0.016\n",
      "ppda_att         0.0028      0.001      3.393      0.001       0.001       0.004\n",
      "ppda_def        -0.0167      0.007     -2.236      0.025      -0.031      -0.002\n",
      "================================================================================\n"
     ]
    }
   ],
   "source": [
    "#Using the statsmodels GLM class, train the Poisson regression model on the training data set.\n",
    "poisson_training_results = sm.GLM(y_train, X_train, family=sm.families.Poisson()).fit()\n",
    "\n",
    "#Print the training summary.\n",
    "print(poisson_training_results.summary())\n"
   ]
  },
  {
   "cell_type": "code",
   "execution_count": null,
   "metadata": {},
   "outputs": [],
   "source": [
    "#Make some predictions on the test data set. Variable 'poisson_predictions' consists of the predicted scored goals of the test dataset when applying the model defined by the training dataset\n",
    "poisson_predictions = poisson_training_results.get_prediction(X_test)\n",
    "\n",
    "#.summary_frame() returns a pandas DataFrame\n",
    "predictions_summary_frame = poisson_predictions.summary_frame()\n",
    "print(predictions_summary_frame)"
   ]
  },
  {
   "cell_type": "code",
   "execution_count": 108,
   "metadata": {},
   "outputs": [
    {
     "data": {
      "image/png": "[encoded data removed]",
      "text/plain": [
       "<Figure size 640x480 with 1 Axes>"
      ]
     },
     "metadata": {},
     "output_type": "display_data"
    }
   ],
   "source": [
    "#Visualize the the differences between the model and the actual data\n",
    "\n",
    "#define the predicted and the actual goals\n",
    "predicted_goals=predictions_summary_frame['mean']\n",
    "actual_goals = y_test['scored']\n",
    "\n",
    "#Mlot the predicted counts versus the actual counts for the test data.\n",
    "fig = plt.figure()\n",
    "fig.suptitle('Predicted versus actual goals')\n",
    "predicted, = plt.plot(X_test.index, predicted_goals, 'go-', label='Predicted goals')\n",
    "actual, = plt.plot(X_test.index, actual_goals, 'ro-', label='Actual goals')\n",
    "plt.legend(handles=[predicted, actual])\n",
    "plt.show()"
   ]
  },
  {
   "cell_type": "code",
   "execution_count": 109,
   "metadata": {},
   "outputs": [
    {
     "data": {
      "text/plain": [
       "<Figure size 640x480 with 0 Axes>"
      ]
     },
     "metadata": {},
     "output_type": "display_data"
    },
    {
     "data": {
      "image/png": "[encoded data removed]",
      "text/plain": [
       "<Figure size 640x480 with 1 Axes>"
      ]
     },
     "metadata": {},
     "output_type": "display_data"
    }
   ],
   "source": [
    "#Show scatter plot of Actual versus Predicted counts\n",
    "plt.clf()\n",
    "fig = plt.figure()\n",
    "fig.suptitle('Scatter plot of Actual versus Predicted goals')\n",
    "plt.scatter(x=predicted_goals, y=actual_goals, marker='.')\n",
    "plt.xlabel('Predicted goals', )\n",
    "plt.ylabel('Actual goals')\n",
    "plt.show()"
   ]
  },
  {
   "cell_type": "markdown",
   "metadata": {},
   "source": [
    "# 5. Probability of certain scored goals"
   ]
  },
  {
   "cell_type": "code",
   "execution_count": 131,
   "metadata": {},
   "outputs": [],
   "source": [
    "# get the predicted goals\n",
    "test_predict= poisson_training_results.predict()"
   ]
  },
  {
   "cell_type": "code",
   "execution_count": 2,
   "metadata": {},
   "outputs": [
    {
     "ename": "NameError",
     "evalue": "name 'np' is not defined",
     "output_type": "error",
     "traceback": [
      "\u001b[1;31m---------------------------------------------------------------------------\u001b[0m",
      "\u001b[1;31mNameError\u001b[0m                                 Traceback (most recent call last)",
      "Cell \u001b[1;32mIn [2], line 4\u001b[0m\n\u001b[0;32m      1\u001b[0m \u001b[39m#define a dataframe that consists of columns = number of goals, rows = according probability\u001b[39;00m\n\u001b[0;32m      2\u001b[0m \n\u001b[0;32m      3\u001b[0m \u001b[39m#define up to how many goals you want to dataframe to show\u001b[39;00m\n\u001b[1;32m----> 4\u001b[0m counts \u001b[39m=\u001b[39m np\u001b[39m.\u001b[39marange(\u001b[39m6\u001b[39m)\n\u001b[0;32m      6\u001b[0m \u001b[39m#calculate the probability\u001b[39;00m\n\u001b[0;32m      7\u001b[0m predict_prob \u001b[39m=\u001b[39m stats\u001b[39m.\u001b[39mpoisson\u001b[39m.\u001b[39mpmf(counts, np\u001b[39m.\u001b[39masarray(test_predict)[:, \u001b[39mNone\u001b[39;00m])\n",
      "\u001b[1;31mNameError\u001b[0m: name 'np' is not defined"
     ]
    }
   ],
   "source": [
    "#define a dataframe that consists of columns = number of goals, rows = according probability\n",
    "\n",
    "#define up to how many goals you want to dataframe to show\n",
    "counts = np.arange(6)\n",
    "\n",
    "#calculate the probability\n",
    "predict_prob = stats.poisson.pmf(counts, np.asarray(test_predict)[:, None])\n",
    "results = pd.DataFrame(predict_prob)\n",
    "results"
   ]
  },
  {
   "cell_type": "code",
   "execution_count": 1,
   "metadata": {},
   "outputs": [
    {
     "ename": "NameError",
     "evalue": "name 'results' is not defined",
     "output_type": "error",
     "traceback": [
      "\u001b[1;31m---------------------------------------------------------------------------\u001b[0m",
      "\u001b[1;31mNameError\u001b[0m                                 Traceback (most recent call last)",
      "Cell \u001b[1;32mIn [1], line 4\u001b[0m\n\u001b[0;32m      1\u001b[0m \u001b[39m#calculate probability for certain game outcomes\u001b[39;00m\n\u001b[0;32m      2\u001b[0m \n\u001b[0;32m      3\u001b[0m \u001b[39m#Probability that team x scores at least one goal:\u001b[39;00m\n\u001b[1;32m----> 4\u001b[0m plus0 \u001b[39m=\u001b[39m \u001b[39m1\u001b[39m\u001b[39m-\u001b[39m results[\u001b[39m0\u001b[39m]\u001b[39m.\u001b[39mmean()\n\u001b[0;32m      6\u001b[0m \u001b[39m#Probability that team x scores more than one goal:\u001b[39;00m\n\u001b[0;32m      7\u001b[0m plus1 \u001b[39m=\u001b[39m \u001b[39m1\u001b[39m\u001b[39m-\u001b[39m results[\u001b[39m0\u001b[39m]\u001b[39m.\u001b[39mmean()\u001b[39m-\u001b[39mresults[\u001b[39m1\u001b[39m]\u001b[39m.\u001b[39mmean()\n",
      "\u001b[1;31mNameError\u001b[0m: name 'results' is not defined"
     ]
    }
   ],
   "source": [
    "#calculate probability for certain game outcomes\n",
    "\n",
    "#Probability that team x scores at least one goal:\n",
    "plus0 = 1- results[0].mean()\n",
    "\n",
    "#Probability that team x scores more than one goal:\n",
    "plus1 = 1- results[0].mean()-results[1].mean()\n",
    "plus2 = 1- results[0].mean()-results[1].mean()-results[2].mean()"
   ]
  }
 ],
 "metadata": {
  "colab": {
   "collapsed_sections": [
    "n_5oRe0SXilM",
    "9SxiIczg1s1k",
    "ll5e8N9SVwVa",
    "5PbjhPxLmsI4",
    "ROFPolZpm21t",
    "qBXGs0xRERuv",
    "AD6zwuTHiYKA",
    "NVSRftm8X1m1",
    "pclZR6uFklf_",
    "8UQgU5I-lEll",
    "FJ5rjq7fIe8Q",
    "q7CNxkPdNB4L",
    "8S1jwU4cXQX4",
    "ITfbaOgfYNsq",
    "x2NWxK0BFwyw",
    "RHRXds9U9134",
    "K4qgOdz7Yyeb",
    "Vlf6_berQ1vq",
    "zI6s2Amob48j",
    "zZX9MQlORLfY",
    "AQ69XKdbZcA3",
    "7-CGSS2OZKHD",
    "Bxtv48o-F1Ku",
    "EHZ-hHGuY5aG",
    "puQNgKN0wS7H",
    "vhhycm2S6wbz",
    "0dG6U6s3T95t"
   ],
   "provenance": []
  },
  "kernelspec": {
   "display_name": "Python 3.10.4 ('notebook')",
   "language": "python",
   "name": "python3"
  },
  "language_info": {
   "codemirror_mode": {
    "name": "ipython",
    "version": 3
   },
   "file_extension": ".py",
   "mimetype": "text/x-python",
   "name": "python",
   "nbconvert_exporter": "python",
   "pygments_lexer": "ipython3",
   "version": "3.10.4"
  },
  "vscode": {
   "interpreter": {
    "hash": "0b986b04fc27e2e62112567ae402be01810ebd91eebc138b61cd007f36f9c4d9"
   }
  }
 },
 "nbformat": 4,
 "nbformat_minor": 1
}
